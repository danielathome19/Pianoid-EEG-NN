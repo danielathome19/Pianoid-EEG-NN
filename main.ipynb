{
 "cells": [
  {
   "cell_type": "markdown",
   "id": "9a909ff7143fa281",
   "metadata": {
    "collapsed": false
   },
   "source": [
    "# Simulating Neural Responses for Classical Music Listening using Organoid Intelligence Methods"
   ]
  },
  {
   "cell_type": "code",
   "execution_count": 3,
   "id": "66dd0c9f",
   "metadata": {},
   "outputs": [],
   "source": [
    "%pip install mne scipy librosa pyorganoid[all] pandas"
   ]
  },
  {
   "cell_type": "code",
   "execution_count": 1,
   "id": "c6d2ac1ec8a69b3b",
   "metadata": {
    "ExecuteTime": {
     "end_time": "2024-07-11T20:18:43.143856400Z",
     "start_time": "2024-07-11T20:18:32.533762200Z"
    },
    "collapsed": false
   },
   "outputs": [
    {
     "name": "stdout",
     "output_type": "stream",
     "text": [
      "WARNING:tensorflow:From d:\\My Drive\\Resources\\Dev Stuff\\Python\\Organoid Intelligence\\SNN-Organoid\\.venv\\Lib\\site-packages\\keras\\src\\losses.py:2976: The name tf.losses.sparse_softmax_cross_entropy is deprecated. Please use tf.compat.v1.losses.sparse_softmax_cross_entropy instead.\n",
      "\n"
     ]
    }
   ],
   "source": [
    "import os\n",
    "import mne\n",
    "import librosa\n",
    "import numpy as np\n",
    "import pandas as pd\n",
    "import pyorganoid as po\n",
    "import tensorflow as tf\n",
    "import matplotlib.pyplot as plt\n",
    "from pathlib import Path\n",
    "from scipy.signal import welch\n",
    "__import__(\"warnings\").filterwarnings(\"ignore\")"
   ]
  },
  {
   "cell_type": "code",
   "execution_count": null,
   "id": "e1147a68",
   "metadata": {},
   "outputs": [],
   "source": [
    "data_dir = Path('data')\n",
    "\n",
    "# Load EEG data from an EDF file\n",
    "def load_eeg_data(subject_id):\n",
    "    file_path = data_dir / f'sub-{subject_id:02d}_task-classicalMusic_eeg.edf'\n",
    "    raw_data = mne.io.read_raw_edf(file_path, preload=True)\n",
    "    return raw_data\n",
    "\n",
    "# Load data for the first subject\n",
    "raw_eeg = load_eeg_data(1)\n",
    "print(raw_eeg.info)  # Display information about the EEG dataset"
   ]
  },
  {
   "cell_type": "code",
   "execution_count": null,
   "id": "927e23cc",
   "metadata": {},
   "outputs": [],
   "source": [
    "# Filtering the data to remove low frequency drifts and high frequency noise\n",
    "raw_eeg.filter(1., 40., fir_design='firwin')  # Band-pass filtering\n",
    "raw_eeg.plot(duration=60, n_channels=20)  # TODO: may need to modify"
   ]
  },
  {
   "cell_type": "code",
   "execution_count": null,
   "id": "ac6c0d63",
   "metadata": {},
   "outputs": [],
   "source": [
    "# Compute the average power spectral density (PSD) across channels\n",
    "def plot_psd(data):\n",
    "    f, ax = plt.subplots()\n",
    "    psds, freqs = welch(data.get_data(), fs=data.info['sfreq'], nperseg=1024)\n",
    "    psd_mean = psds.mean(0)\n",
    "    ax.semilogy(freqs, psd_mean)\n",
    "    ax.set_title('Spectral Density Plot')\n",
    "    ax.set_xlabel('Frequency (Hz)')\n",
    "    ax.set_ylabel('PSD (dB/Hz)')\n",
    "    return ax\n",
    "\n",
    "plot_psd(raw_eeg)\n",
    "plt.show()"
   ]
  },
  {
   "cell_type": "code",
   "execution_count": null,
   "id": "2f8f9856",
   "metadata": {},
   "outputs": [],
   "source": [
    "import IPython.display as ipd\n",
    "\n",
    "def play_classical_piece(piece_number):\n",
    "    music_file = next(data_dir.glob(f'p{piece_number}_*.mp3'))\n",
    "    return ipd.Audio(str(music_file))\n",
    "\n",
    "play_classical_piece(1)"
   ]
  }
 ],
 "metadata": {
  "kernelspec": {
   "display_name": "Python 3",
   "language": "python",
   "name": "python3"
  },
  "language_info": {
   "codemirror_mode": {
    "name": "ipython",
    "version": 3
   },
   "file_extension": ".py",
   "mimetype": "text/x-python",
   "name": "python",
   "nbconvert_exporter": "python",
   "pygments_lexer": "ipython3",
   "version": "3.11.9"
  }
 },
 "nbformat": 4,
 "nbformat_minor": 5
}
